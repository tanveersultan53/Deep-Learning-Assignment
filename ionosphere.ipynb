{
 "cells": [
  {
   "cell_type": "code",
   "execution_count": 1,
   "metadata": {},
   "outputs": [],
   "source": [
    "import numpy as np\n",
    "import pandas as pd\n",
    "import matplotlib as plt\n",
    "import seaborn as sns"
   ]
  },
  {
   "cell_type": "code",
   "execution_count": 2,
   "metadata": {},
   "outputs": [],
   "source": [
    "#read dataset \n",
    "df = pd.read_csv(\"ionosphere_data.csv\")"
   ]
  },
  {
   "cell_type": "code",
   "execution_count": 3,
   "metadata": {},
   "outputs": [
    {
     "data": {
      "text/html": [
       "<div>\n",
       "<style scoped>\n",
       "    .dataframe tbody tr th:only-of-type {\n",
       "        vertical-align: middle;\n",
       "    }\n",
       "\n",
       "    .dataframe tbody tr th {\n",
       "        vertical-align: top;\n",
       "    }\n",
       "\n",
       "    .dataframe thead th {\n",
       "        text-align: right;\n",
       "    }\n",
       "</style>\n",
       "<table border=\"1\" class=\"dataframe\">\n",
       "  <thead>\n",
       "    <tr style=\"text-align: right;\">\n",
       "      <th></th>\n",
       "      <th>feature1</th>\n",
       "      <th>feature2</th>\n",
       "      <th>feature3</th>\n",
       "      <th>feature4</th>\n",
       "      <th>feature5</th>\n",
       "      <th>feature6</th>\n",
       "      <th>feature7</th>\n",
       "      <th>feature8</th>\n",
       "      <th>feature9</th>\n",
       "      <th>feature10</th>\n",
       "      <th>...</th>\n",
       "      <th>feature26</th>\n",
       "      <th>feature27</th>\n",
       "      <th>feature28</th>\n",
       "      <th>feature29</th>\n",
       "      <th>feature30</th>\n",
       "      <th>feature31</th>\n",
       "      <th>feature32</th>\n",
       "      <th>feature33</th>\n",
       "      <th>feature34</th>\n",
       "      <th>label</th>\n",
       "    </tr>\n",
       "  </thead>\n",
       "  <tbody>\n",
       "    <tr>\n",
       "      <th>0</th>\n",
       "      <td>1</td>\n",
       "      <td>0</td>\n",
       "      <td>0.99539</td>\n",
       "      <td>-0.05889</td>\n",
       "      <td>0.85243</td>\n",
       "      <td>0.02306</td>\n",
       "      <td>0.83398</td>\n",
       "      <td>-0.37708</td>\n",
       "      <td>1.00000</td>\n",
       "      <td>0.03760</td>\n",
       "      <td>...</td>\n",
       "      <td>-0.51171</td>\n",
       "      <td>0.41078</td>\n",
       "      <td>-0.46168</td>\n",
       "      <td>0.21266</td>\n",
       "      <td>-0.34090</td>\n",
       "      <td>0.42267</td>\n",
       "      <td>-0.54487</td>\n",
       "      <td>0.18641</td>\n",
       "      <td>-0.45300</td>\n",
       "      <td>g</td>\n",
       "    </tr>\n",
       "    <tr>\n",
       "      <th>1</th>\n",
       "      <td>1</td>\n",
       "      <td>0</td>\n",
       "      <td>1.00000</td>\n",
       "      <td>-0.18829</td>\n",
       "      <td>0.93035</td>\n",
       "      <td>-0.36156</td>\n",
       "      <td>-0.10868</td>\n",
       "      <td>-0.93597</td>\n",
       "      <td>1.00000</td>\n",
       "      <td>-0.04549</td>\n",
       "      <td>...</td>\n",
       "      <td>-0.26569</td>\n",
       "      <td>-0.20468</td>\n",
       "      <td>-0.18401</td>\n",
       "      <td>-0.19040</td>\n",
       "      <td>-0.11593</td>\n",
       "      <td>-0.16626</td>\n",
       "      <td>-0.06288</td>\n",
       "      <td>-0.13738</td>\n",
       "      <td>-0.02447</td>\n",
       "      <td>b</td>\n",
       "    </tr>\n",
       "    <tr>\n",
       "      <th>2</th>\n",
       "      <td>1</td>\n",
       "      <td>0</td>\n",
       "      <td>1.00000</td>\n",
       "      <td>-0.03365</td>\n",
       "      <td>1.00000</td>\n",
       "      <td>0.00485</td>\n",
       "      <td>1.00000</td>\n",
       "      <td>-0.12062</td>\n",
       "      <td>0.88965</td>\n",
       "      <td>0.01198</td>\n",
       "      <td>...</td>\n",
       "      <td>-0.40220</td>\n",
       "      <td>0.58984</td>\n",
       "      <td>-0.22145</td>\n",
       "      <td>0.43100</td>\n",
       "      <td>-0.17365</td>\n",
       "      <td>0.60436</td>\n",
       "      <td>-0.24180</td>\n",
       "      <td>0.56045</td>\n",
       "      <td>-0.38238</td>\n",
       "      <td>g</td>\n",
       "    </tr>\n",
       "    <tr>\n",
       "      <th>3</th>\n",
       "      <td>1</td>\n",
       "      <td>0</td>\n",
       "      <td>1.00000</td>\n",
       "      <td>-0.45161</td>\n",
       "      <td>1.00000</td>\n",
       "      <td>1.00000</td>\n",
       "      <td>0.71216</td>\n",
       "      <td>-1.00000</td>\n",
       "      <td>0.00000</td>\n",
       "      <td>0.00000</td>\n",
       "      <td>...</td>\n",
       "      <td>0.90695</td>\n",
       "      <td>0.51613</td>\n",
       "      <td>1.00000</td>\n",
       "      <td>1.00000</td>\n",
       "      <td>-0.20099</td>\n",
       "      <td>0.25682</td>\n",
       "      <td>1.00000</td>\n",
       "      <td>-0.32382</td>\n",
       "      <td>1.00000</td>\n",
       "      <td>b</td>\n",
       "    </tr>\n",
       "    <tr>\n",
       "      <th>4</th>\n",
       "      <td>1</td>\n",
       "      <td>0</td>\n",
       "      <td>1.00000</td>\n",
       "      <td>-0.02401</td>\n",
       "      <td>0.94140</td>\n",
       "      <td>0.06531</td>\n",
       "      <td>0.92106</td>\n",
       "      <td>-0.23255</td>\n",
       "      <td>0.77152</td>\n",
       "      <td>-0.16399</td>\n",
       "      <td>...</td>\n",
       "      <td>-0.65158</td>\n",
       "      <td>0.13290</td>\n",
       "      <td>-0.53206</td>\n",
       "      <td>0.02431</td>\n",
       "      <td>-0.62197</td>\n",
       "      <td>-0.05707</td>\n",
       "      <td>-0.59573</td>\n",
       "      <td>-0.04608</td>\n",
       "      <td>-0.65697</td>\n",
       "      <td>g</td>\n",
       "    </tr>\n",
       "  </tbody>\n",
       "</table>\n",
       "<p>5 rows × 35 columns</p>\n",
       "</div>"
      ],
      "text/plain": [
       "   feature1  feature2  feature3  feature4  feature5  feature6  feature7  \\\n",
       "0         1         0   0.99539  -0.05889   0.85243   0.02306   0.83398   \n",
       "1         1         0   1.00000  -0.18829   0.93035  -0.36156  -0.10868   \n",
       "2         1         0   1.00000  -0.03365   1.00000   0.00485   1.00000   \n",
       "3         1         0   1.00000  -0.45161   1.00000   1.00000   0.71216   \n",
       "4         1         0   1.00000  -0.02401   0.94140   0.06531   0.92106   \n",
       "\n",
       "   feature8  feature9  feature10  ...  feature26  feature27  feature28  \\\n",
       "0  -0.37708   1.00000    0.03760  ...   -0.51171    0.41078   -0.46168   \n",
       "1  -0.93597   1.00000   -0.04549  ...   -0.26569   -0.20468   -0.18401   \n",
       "2  -0.12062   0.88965    0.01198  ...   -0.40220    0.58984   -0.22145   \n",
       "3  -1.00000   0.00000    0.00000  ...    0.90695    0.51613    1.00000   \n",
       "4  -0.23255   0.77152   -0.16399  ...   -0.65158    0.13290   -0.53206   \n",
       "\n",
       "   feature29  feature30  feature31  feature32  feature33  feature34  label  \n",
       "0    0.21266   -0.34090    0.42267   -0.54487    0.18641   -0.45300      g  \n",
       "1   -0.19040   -0.11593   -0.16626   -0.06288   -0.13738   -0.02447      b  \n",
       "2    0.43100   -0.17365    0.60436   -0.24180    0.56045   -0.38238      g  \n",
       "3    1.00000   -0.20099    0.25682    1.00000   -0.32382    1.00000      b  \n",
       "4    0.02431   -0.62197   -0.05707   -0.59573   -0.04608   -0.65697      g  \n",
       "\n",
       "[5 rows x 35 columns]"
      ]
     },
     "execution_count": 3,
     "metadata": {},
     "output_type": "execute_result"
    }
   ],
   "source": [
    "df.head()"
   ]
  },
  {
   "cell_type": "code",
   "execution_count": 4,
   "metadata": {},
   "outputs": [
    {
     "name": "stdout",
     "output_type": "stream",
     "text": [
      "<class 'pandas.core.frame.DataFrame'>\n",
      "RangeIndex: 351 entries, 0 to 350\n",
      "Data columns (total 35 columns):\n",
      " #   Column     Non-Null Count  Dtype  \n",
      "---  ------     --------------  -----  \n",
      " 0   feature1   351 non-null    int64  \n",
      " 1   feature2   351 non-null    int64  \n",
      " 2   feature3   351 non-null    float64\n",
      " 3   feature4   351 non-null    float64\n",
      " 4   feature5   351 non-null    float64\n",
      " 5   feature6   351 non-null    float64\n",
      " 6   feature7   351 non-null    float64\n",
      " 7   feature8   351 non-null    float64\n",
      " 8   feature9   351 non-null    float64\n",
      " 9   feature10  351 non-null    float64\n",
      " 10  feature11  351 non-null    float64\n",
      " 11  feature12  351 non-null    float64\n",
      " 12  feature13  351 non-null    float64\n",
      " 13  feature14  351 non-null    float64\n",
      " 14  feature15  351 non-null    float64\n",
      " 15  feature16  351 non-null    float64\n",
      " 16  feature17  351 non-null    float64\n",
      " 17  feature18  351 non-null    float64\n",
      " 18  feature19  351 non-null    float64\n",
      " 19  feature20  351 non-null    float64\n",
      " 20  feature21  351 non-null    float64\n",
      " 21  feature22  351 non-null    float64\n",
      " 22  feature23  351 non-null    float64\n",
      " 23  feature24  351 non-null    float64\n",
      " 24  feature25  351 non-null    float64\n",
      " 25  feature26  351 non-null    float64\n",
      " 26  feature27  351 non-null    float64\n",
      " 27  feature28  351 non-null    float64\n",
      " 28  feature29  351 non-null    float64\n",
      " 29  feature30  351 non-null    float64\n",
      " 30  feature31  351 non-null    float64\n",
      " 31  feature32  351 non-null    float64\n",
      " 32  feature33  351 non-null    float64\n",
      " 33  feature34  351 non-null    float64\n",
      " 34  label      351 non-null    object \n",
      "dtypes: float64(32), int64(2), object(1)\n",
      "memory usage: 96.1+ KB\n"
     ]
    }
   ],
   "source": [
    "df.info()"
   ]
  },
  {
   "cell_type": "code",
   "execution_count": 5,
   "metadata": {},
   "outputs": [
    {
     "data": {
      "text/plain": [
       "feature1     0\n",
       "feature2     0\n",
       "feature3     0\n",
       "feature4     0\n",
       "feature5     0\n",
       "feature6     0\n",
       "feature7     0\n",
       "feature8     0\n",
       "feature9     0\n",
       "feature10    0\n",
       "feature11    0\n",
       "feature12    0\n",
       "feature13    0\n",
       "feature14    0\n",
       "feature15    0\n",
       "feature16    0\n",
       "feature17    0\n",
       "feature18    0\n",
       "feature19    0\n",
       "feature20    0\n",
       "feature21    0\n",
       "feature22    0\n",
       "feature23    0\n",
       "feature24    0\n",
       "feature25    0\n",
       "feature26    0\n",
       "feature27    0\n",
       "feature28    0\n",
       "feature29    0\n",
       "feature30    0\n",
       "feature31    0\n",
       "feature32    0\n",
       "feature33    0\n",
       "feature34    0\n",
       "label        0\n",
       "dtype: int64"
      ]
     },
     "execution_count": 5,
     "metadata": {},
     "output_type": "execute_result"
    }
   ],
   "source": [
    "df.isnull().sum()"
   ]
  },
  {
   "cell_type": "code",
   "execution_count": 6,
   "metadata": {},
   "outputs": [],
   "source": [
    "#Label Encoding\n",
    "df['label']=df['label'].map({'b':0,'g':1})\n",
    "\n",
    "#Training validation and testing spliting data with ratio 60% 20% 20%\n",
    "train_data , validation_data , testing_data = np.split(df.sample(frac=1 , random_state=42),\n",
    "                                                      [int(.6*len(df)),int(.8*len(df))])"
   ]
  },
  {
   "cell_type": "code",
   "execution_count": 7,
   "metadata": {},
   "outputs": [
    {
     "name": "stdout",
     "output_type": "stream",
     "text": [
      "210\n",
      "70\n",
      "71\n"
     ]
    }
   ],
   "source": [
    "print(len(train_data))\n",
    "print(len(validation_data))\n",
    "print(len(testing_data))"
   ]
  },
  {
   "cell_type": "code",
   "execution_count": 8,
   "metadata": {},
   "outputs": [],
   "source": [
    "#Traing Data\n",
    "x_train = train_data.iloc[:,:-1]\n",
    "y_train = train_data.iloc[:,-1]\n",
    "#Validation data\n",
    "x_val = validation_data.iloc[:,:-1]\n",
    "y_val = validation_data.iloc[:,-1]\n",
    "#testing Data\n",
    "x_test = testing_data.iloc[:,:-1]\n",
    "y_test = testing_data.iloc[:,-1]"
   ]
  },
  {
   "cell_type": "code",
   "execution_count": 9,
   "metadata": {},
   "outputs": [],
   "source": [
    "#Define Network Structure \n",
    "import tensorflow as tf"
   ]
  },
  {
   "cell_type": "code",
   "execution_count": 10,
   "metadata": {},
   "outputs": [],
   "source": [
    "#With Relu Function"
   ]
  },
  {
   "cell_type": "code",
   "execution_count": 11,
   "metadata": {},
   "outputs": [],
   "source": [
    "netwrok = tf.keras.models.Sequential()\n",
    "netwrok.add(tf.keras.layers.Dense(32 , activation='relu' , input_shape=(34,)))\n",
    "netwrok.add(tf.keras.layers.Dense(16 , activation='relu' ))\n",
    "netwrok.add(tf.keras.layers.Dense(1 , activation='sigmoid'))"
   ]
  },
  {
   "cell_type": "code",
   "execution_count": 12,
   "metadata": {},
   "outputs": [
    {
     "name": "stdout",
     "output_type": "stream",
     "text": [
      "Model: \"sequential\"\n",
      "_________________________________________________________________\n",
      "Layer (type)                 Output Shape              Param #   \n",
      "=================================================================\n",
      "dense (Dense)                (None, 32)                1120      \n",
      "_________________________________________________________________\n",
      "dense_1 (Dense)              (None, 16)                528       \n",
      "_________________________________________________________________\n",
      "dense_2 (Dense)              (None, 1)                 17        \n",
      "=================================================================\n",
      "Total params: 1,665\n",
      "Trainable params: 1,665\n",
      "Non-trainable params: 0\n",
      "_________________________________________________________________\n"
     ]
    }
   ],
   "source": [
    "netwrok.summary()"
   ]
  },
  {
   "cell_type": "code",
   "execution_count": 13,
   "metadata": {},
   "outputs": [],
   "source": [
    "netwrok.compile(optimizer='adam', loss=tf.keras.losses.binary_crossentropy,\n",
    "                metrics=['acc'])"
   ]
  },
  {
   "cell_type": "code",
   "execution_count": 14,
   "metadata": {},
   "outputs": [
    {
     "data": {
      "text/plain": [
       "array([0, 1], dtype=int64)"
      ]
     },
     "execution_count": 14,
     "metadata": {},
     "output_type": "execute_result"
    }
   ],
   "source": [
    "#label encoder\n",
    "np.unique(df[['label']])"
   ]
  },
  {
   "cell_type": "code",
   "execution_count": 15,
   "metadata": {},
   "outputs": [
    {
     "name": "stdout",
     "output_type": "stream",
     "text": [
      "Epoch 1/100\n",
      "7/7 [==============================] - 2s 205ms/step - loss: 0.7222 - acc: 0.3798 - val_loss: 0.6724 - val_acc: 0.6000\n",
      "Epoch 2/100\n",
      "7/7 [==============================] - 0s 9ms/step - loss: 0.6680 - acc: 0.6862 - val_loss: 0.6374 - val_acc: 0.7143\n",
      "Epoch 3/100\n",
      "7/7 [==============================] - 0s 9ms/step - loss: 0.6088 - acc: 0.7901 - val_loss: 0.6118 - val_acc: 0.7000\n",
      "Epoch 4/100\n",
      "7/7 [==============================] - 0s 9ms/step - loss: 0.5798 - acc: 0.7937 - val_loss: 0.5921 - val_acc: 0.7000\n",
      "Epoch 5/100\n",
      "7/7 [==============================] - 0s 8ms/step - loss: 0.5570 - acc: 0.7690 - val_loss: 0.5739 - val_acc: 0.7000\n",
      "Epoch 6/100\n",
      "7/7 [==============================] - 0s 7ms/step - loss: 0.5424 - acc: 0.7634 - val_loss: 0.5563 - val_acc: 0.6857\n",
      "Epoch 7/100\n",
      "7/7 [==============================] - 0s 8ms/step - loss: 0.5171 - acc: 0.7819 - val_loss: 0.5391 - val_acc: 0.6857\n",
      "Epoch 8/100\n",
      "7/7 [==============================] - 0s 9ms/step - loss: 0.4634 - acc: 0.8123 - val_loss: 0.5208 - val_acc: 0.6857\n",
      "Epoch 9/100\n",
      "7/7 [==============================] - 0s 10ms/step - loss: 0.4693 - acc: 0.7901 - val_loss: 0.5037 - val_acc: 0.7143\n",
      "Epoch 10/100\n",
      "7/7 [==============================] - 0s 8ms/step - loss: 0.4191 - acc: 0.8435 - val_loss: 0.4881 - val_acc: 0.7143\n",
      "Epoch 11/100\n",
      "7/7 [==============================] - 0s 8ms/step - loss: 0.4266 - acc: 0.8119 - val_loss: 0.4737 - val_acc: 0.7714\n",
      "Epoch 12/100\n",
      "7/7 [==============================] - 0s 8ms/step - loss: 0.3973 - acc: 0.8660 - val_loss: 0.4608 - val_acc: 0.7857\n",
      "Epoch 13/100\n",
      "7/7 [==============================] - 0s 8ms/step - loss: 0.3896 - acc: 0.8169 - val_loss: 0.4477 - val_acc: 0.8000\n",
      "Epoch 14/100\n",
      "7/7 [==============================] - 0s 7ms/step - loss: 0.3603 - acc: 0.8674 - val_loss: 0.4341 - val_acc: 0.8143\n",
      "Epoch 15/100\n",
      "7/7 [==============================] - 0s 7ms/step - loss: 0.3209 - acc: 0.9014 - val_loss: 0.4210 - val_acc: 0.8143\n",
      "Epoch 16/100\n",
      "7/7 [==============================] - 0s 8ms/step - loss: 0.3030 - acc: 0.9067 - val_loss: 0.4079 - val_acc: 0.8286\n",
      "Epoch 17/100\n",
      "7/7 [==============================] - 0s 9ms/step - loss: 0.3024 - acc: 0.9068 - val_loss: 0.3960 - val_acc: 0.8429\n",
      "Epoch 18/100\n",
      "7/7 [==============================] - 0s 10ms/step - loss: 0.3178 - acc: 0.9001 - val_loss: 0.3844 - val_acc: 0.8429\n",
      "Epoch 19/100\n",
      "7/7 [==============================] - 0s 10ms/step - loss: 0.2906 - acc: 0.9205 - val_loss: 0.3723 - val_acc: 0.8571\n",
      "Epoch 20/100\n",
      "7/7 [==============================] - 0s 9ms/step - loss: 0.2579 - acc: 0.9266 - val_loss: 0.3587 - val_acc: 0.8714\n",
      "Epoch 21/100\n",
      "7/7 [==============================] - 0s 8ms/step - loss: 0.2487 - acc: 0.9329 - val_loss: 0.3476 - val_acc: 0.8714\n",
      "Epoch 22/100\n",
      "7/7 [==============================] - 0s 7ms/step - loss: 0.2489 - acc: 0.9367 - val_loss: 0.3348 - val_acc: 0.8857\n",
      "Epoch 23/100\n",
      "7/7 [==============================] - 0s 9ms/step - loss: 0.2375 - acc: 0.9424 - val_loss: 0.3245 - val_acc: 0.8857\n",
      "Epoch 24/100\n",
      "7/7 [==============================] - 0s 9ms/step - loss: 0.2257 - acc: 0.9435 - val_loss: 0.3146 - val_acc: 0.8857\n",
      "Epoch 25/100\n",
      "7/7 [==============================] - 0s 8ms/step - loss: 0.1922 - acc: 0.9567 - val_loss: 0.3076 - val_acc: 0.9000\n",
      "Epoch 26/100\n",
      "7/7 [==============================] - 0s 9ms/step - loss: 0.2215 - acc: 0.9384 - val_loss: 0.2984 - val_acc: 0.9000\n",
      "Epoch 27/100\n",
      "7/7 [==============================] - 0s 7ms/step - loss: 0.1796 - acc: 0.9631 - val_loss: 0.2938 - val_acc: 0.9000\n",
      "Epoch 28/100\n",
      "7/7 [==============================] - 0s 7ms/step - loss: 0.1864 - acc: 0.9353 - val_loss: 0.2867 - val_acc: 0.9000\n",
      "Epoch 29/100\n",
      "7/7 [==============================] - 0s 7ms/step - loss: 0.1584 - acc: 0.9566 - val_loss: 0.2771 - val_acc: 0.9143\n",
      "Epoch 30/100\n",
      "7/7 [==============================] - 0s 8ms/step - loss: 0.2011 - acc: 0.9370 - val_loss: 0.2697 - val_acc: 0.9143\n",
      "Epoch 31/100\n",
      "7/7 [==============================] - 0s 7ms/step - loss: 0.1637 - acc: 0.9596 - val_loss: 0.2644 - val_acc: 0.9143\n",
      "Epoch 32/100\n",
      "7/7 [==============================] - 0s 8ms/step - loss: 0.1744 - acc: 0.9510 - val_loss: 0.2587 - val_acc: 0.9143\n",
      "Epoch 33/100\n",
      "7/7 [==============================] - 0s 8ms/step - loss: 0.1565 - acc: 0.9601 - val_loss: 0.2531 - val_acc: 0.9143\n",
      "Epoch 34/100\n",
      "7/7 [==============================] - 0s 8ms/step - loss: 0.1420 - acc: 0.9631 - val_loss: 0.2461 - val_acc: 0.9143\n",
      "Epoch 35/100\n",
      "7/7 [==============================] - 0s 7ms/step - loss: 0.1416 - acc: 0.9645 - val_loss: 0.2413 - val_acc: 0.9143\n",
      "Epoch 36/100\n",
      "7/7 [==============================] - 0s 8ms/step - loss: 0.1311 - acc: 0.9642 - val_loss: 0.2364 - val_acc: 0.9143\n",
      "Epoch 37/100\n",
      "7/7 [==============================] - 0s 7ms/step - loss: 0.1279 - acc: 0.9714 - val_loss: 0.2332 - val_acc: 0.9286\n",
      "Epoch 38/100\n",
      "7/7 [==============================] - 0s 6ms/step - loss: 0.1335 - acc: 0.9692 - val_loss: 0.2280 - val_acc: 0.9286\n",
      "Epoch 39/100\n",
      "7/7 [==============================] - 0s 7ms/step - loss: 0.1197 - acc: 0.9725 - val_loss: 0.2264 - val_acc: 0.9286\n",
      "Epoch 40/100\n",
      "7/7 [==============================] - 0s 7ms/step - loss: 0.1214 - acc: 0.9708 - val_loss: 0.2238 - val_acc: 0.9286\n",
      "Epoch 41/100\n",
      "7/7 [==============================] - 0s 10ms/step - loss: 0.1093 - acc: 0.9695 - val_loss: 0.2185 - val_acc: 0.9286\n",
      "Epoch 42/100\n",
      "7/7 [==============================] - 0s 10ms/step - loss: 0.1092 - acc: 0.9858 - val_loss: 0.2167 - val_acc: 0.9286\n",
      "Epoch 43/100\n",
      "7/7 [==============================] - 0s 8ms/step - loss: 0.1014 - acc: 0.9818 - val_loss: 0.2120 - val_acc: 0.9286\n",
      "Epoch 44/100\n",
      "7/7 [==============================] - 0s 10ms/step - loss: 0.0946 - acc: 0.9836 - val_loss: 0.2104 - val_acc: 0.9286\n",
      "Epoch 45/100\n",
      "7/7 [==============================] - 0s 8ms/step - loss: 0.0972 - acc: 0.9812 - val_loss: 0.2064 - val_acc: 0.9286\n",
      "Epoch 46/100\n",
      "7/7 [==============================] - 0s 9ms/step - loss: 0.1184 - acc: 0.9694 - val_loss: 0.2052 - val_acc: 0.9286\n",
      "Epoch 47/100\n",
      "7/7 [==============================] - 0s 7ms/step - loss: 0.1002 - acc: 0.9729 - val_loss: 0.2019 - val_acc: 0.9286\n",
      "Epoch 48/100\n",
      "7/7 [==============================] - 0s 7ms/step - loss: 0.0869 - acc: 0.9868 - val_loss: 0.1987 - val_acc: 0.9286\n",
      "Epoch 49/100\n",
      "7/7 [==============================] - 0s 7ms/step - loss: 0.0767 - acc: 0.9836 - val_loss: 0.1972 - val_acc: 0.9286\n",
      "Epoch 50/100\n",
      "7/7 [==============================] - 0s 7ms/step - loss: 0.0820 - acc: 0.9891 - val_loss: 0.1956 - val_acc: 0.9286\n",
      "Epoch 51/100\n",
      "7/7 [==============================] - 0s 7ms/step - loss: 0.1016 - acc: 0.9758 - val_loss: 0.1953 - val_acc: 0.9286\n",
      "Epoch 52/100\n",
      "7/7 [==============================] - 0s 7ms/step - loss: 0.0678 - acc: 0.9897 - val_loss: 0.1971 - val_acc: 0.9286\n",
      "Epoch 53/100\n",
      "7/7 [==============================] - 0s 7ms/step - loss: 0.1125 - acc: 0.9648 - val_loss: 0.1906 - val_acc: 0.9286\n",
      "Epoch 54/100\n",
      "7/7 [==============================] - 0s 8ms/step - loss: 0.0894 - acc: 0.9794 - val_loss: 0.1887 - val_acc: 0.9286\n",
      "Epoch 55/100\n",
      "7/7 [==============================] - 0s 9ms/step - loss: 0.0860 - acc: 0.9756 - val_loss: 0.1897 - val_acc: 0.9286\n",
      "Epoch 56/100\n",
      "7/7 [==============================] - 0s 9ms/step - loss: 0.0660 - acc: 0.9885 - val_loss: 0.1893 - val_acc: 0.9286\n",
      "Epoch 57/100\n",
      "7/7 [==============================] - 0s 10ms/step - loss: 0.0805 - acc: 0.9844 - val_loss: 0.1898 - val_acc: 0.9286\n",
      "Epoch 58/100\n",
      "7/7 [==============================] - 0s 8ms/step - loss: 0.0949 - acc: 0.9726 - val_loss: 0.1837 - val_acc: 0.9429\n",
      "Epoch 59/100\n",
      "7/7 [==============================] - 0s 7ms/step - loss: 0.0617 - acc: 0.9891 - val_loss: 0.1850 - val_acc: 0.9286\n",
      "Epoch 60/100\n",
      "7/7 [==============================] - 0s 7ms/step - loss: 0.0679 - acc: 0.9848 - val_loss: 0.1863 - val_acc: 0.9429\n",
      "Epoch 61/100\n",
      "7/7 [==============================] - 0s 7ms/step - loss: 0.0765 - acc: 0.9810 - val_loss: 0.1864 - val_acc: 0.9429\n",
      "Epoch 62/100\n",
      "7/7 [==============================] - 0s 8ms/step - loss: 0.1062 - acc: 0.9609 - val_loss: 0.1839 - val_acc: 0.9429\n",
      "Epoch 63/100\n",
      "7/7 [==============================] - 0s 7ms/step - loss: 0.0807 - acc: 0.9706 - val_loss: 0.1835 - val_acc: 0.9429\n",
      "Epoch 64/100\n"
     ]
    },
    {
     "name": "stdout",
     "output_type": "stream",
     "text": [
      "7/7 [==============================] - 0s 7ms/step - loss: 0.0678 - acc: 0.9818 - val_loss: 0.1849 - val_acc: 0.9429\n",
      "Epoch 65/100\n",
      "7/7 [==============================] - 0s 7ms/step - loss: 0.0643 - acc: 0.9843 - val_loss: 0.1805 - val_acc: 0.9429\n",
      "Epoch 66/100\n",
      "7/7 [==============================] - 0s 7ms/step - loss: 0.0728 - acc: 0.9805 - val_loss: 0.1796 - val_acc: 0.9429\n",
      "Epoch 67/100\n",
      "7/7 [==============================] - 0s 7ms/step - loss: 0.0514 - acc: 0.9901 - val_loss: 0.1813 - val_acc: 0.9429\n",
      "Epoch 68/100\n",
      "7/7 [==============================] - 0s 7ms/step - loss: 0.0466 - acc: 0.9915 - val_loss: 0.1808 - val_acc: 0.9429\n",
      "Epoch 69/100\n",
      "7/7 [==============================] - 0s 7ms/step - loss: 0.0676 - acc: 0.9771 - val_loss: 0.1779 - val_acc: 0.9429\n",
      "Epoch 70/100\n",
      "7/7 [==============================] - 0s 9ms/step - loss: 0.0539 - acc: 0.9877 - val_loss: 0.1802 - val_acc: 0.9429\n",
      "Epoch 71/100\n",
      "7/7 [==============================] - 0s 9ms/step - loss: 0.0814 - acc: 0.9706 - val_loss: 0.1815 - val_acc: 0.9429\n",
      "Epoch 72/100\n",
      "7/7 [==============================] - 0s 10ms/step - loss: 0.0647 - acc: 0.9852 - val_loss: 0.1827 - val_acc: 0.9429\n",
      "Epoch 73/100\n",
      "7/7 [==============================] - 0s 8ms/step - loss: 0.0493 - acc: 0.9888 - val_loss: 0.1830 - val_acc: 0.9429\n",
      "Epoch 74/100\n",
      "7/7 [==============================] - 0s 7ms/step - loss: 0.0587 - acc: 0.9763 - val_loss: 0.1815 - val_acc: 0.9429\n",
      "Epoch 75/100\n",
      "7/7 [==============================] - 0s 7ms/step - loss: 0.0446 - acc: 0.9883 - val_loss: 0.1798 - val_acc: 0.9429\n",
      "Epoch 76/100\n",
      "7/7 [==============================] - 0s 7ms/step - loss: 0.0442 - acc: 0.9867 - val_loss: 0.1809 - val_acc: 0.9429\n",
      "Epoch 77/100\n",
      "7/7 [==============================] - 0s 7ms/step - loss: 0.0446 - acc: 0.9866 - val_loss: 0.1807 - val_acc: 0.9429\n",
      "Epoch 78/100\n",
      "7/7 [==============================] - 0s 7ms/step - loss: 0.0534 - acc: 0.9828 - val_loss: 0.1809 - val_acc: 0.9429\n",
      "Epoch 79/100\n",
      "7/7 [==============================] - 0s 7ms/step - loss: 0.0376 - acc: 0.9891 - val_loss: 0.1826 - val_acc: 0.9429\n",
      "Epoch 80/100\n",
      "7/7 [==============================] - 0s 7ms/step - loss: 0.0651 - acc: 0.9755 - val_loss: 0.1786 - val_acc: 0.9429\n",
      "Epoch 81/100\n",
      "7/7 [==============================] - 0s 8ms/step - loss: 0.0455 - acc: 0.9893 - val_loss: 0.1816 - val_acc: 0.9429\n",
      "Epoch 82/100\n",
      "7/7 [==============================] - 0s 7ms/step - loss: 0.0432 - acc: 0.9929 - val_loss: 0.1803 - val_acc: 0.9429\n",
      "Epoch 83/100\n",
      "7/7 [==============================] - 0s 7ms/step - loss: 0.0465 - acc: 0.9805 - val_loss: 0.1819 - val_acc: 0.9429\n",
      "Epoch 84/100\n",
      "7/7 [==============================] - 0s 7ms/step - loss: 0.0331 - acc: 0.9926 - val_loss: 0.1803 - val_acc: 0.9429\n",
      "Epoch 85/100\n",
      "7/7 [==============================] - 0s 7ms/step - loss: 0.0355 - acc: 0.9897 - val_loss: 0.1780 - val_acc: 0.9429\n",
      "Epoch 86/100\n",
      "7/7 [==============================] - 0s 7ms/step - loss: 0.0539 - acc: 0.9862 - val_loss: 0.1792 - val_acc: 0.9429\n",
      "Epoch 87/100\n",
      "7/7 [==============================] - 0s 7ms/step - loss: 0.0373 - acc: 0.9897 - val_loss: 0.1851 - val_acc: 0.9429\n",
      "Epoch 88/100\n",
      "7/7 [==============================] - 0s 7ms/step - loss: 0.0344 - acc: 0.9934 - val_loss: 0.1856 - val_acc: 0.9429\n",
      "Epoch 89/100\n",
      "7/7 [==============================] - 0s 9ms/step - loss: 0.0351 - acc: 0.9887 - val_loss: 0.1819 - val_acc: 0.9429\n",
      "Epoch 90/100\n",
      "7/7 [==============================] - 0s 9ms/step - loss: 0.0416 - acc: 0.9830 - val_loss: 0.1822 - val_acc: 0.9429\n",
      "Epoch 91/100\n",
      "7/7 [==============================] - 0s 9ms/step - loss: 0.0633 - acc: 0.9805 - val_loss: 0.1811 - val_acc: 0.9429\n",
      "Epoch 92/100\n",
      "7/7 [==============================] - 0s 8ms/step - loss: 0.0449 - acc: 0.9831 - val_loss: 0.1825 - val_acc: 0.9429\n",
      "Epoch 93/100\n",
      "7/7 [==============================] - 0s 7ms/step - loss: 0.0356 - acc: 0.9831 - val_loss: 0.1896 - val_acc: 0.9286\n",
      "Epoch 94/100\n",
      "7/7 [==============================] - 0s 8ms/step - loss: 0.0639 - acc: 0.9749 - val_loss: 0.1849 - val_acc: 0.9286\n",
      "Epoch 95/100\n",
      "7/7 [==============================] - 0s 7ms/step - loss: 0.0344 - acc: 0.9901 - val_loss: 0.1870 - val_acc: 0.9286\n",
      "Epoch 96/100\n",
      "7/7 [==============================] - 0s 7ms/step - loss: 0.0312 - acc: 0.9913 - val_loss: 0.1858 - val_acc: 0.9286\n",
      "Epoch 97/100\n",
      "7/7 [==============================] - 0s 7ms/step - loss: 0.0301 - acc: 0.9974 - val_loss: 0.1892 - val_acc: 0.9286\n",
      "Epoch 98/100\n",
      "7/7 [==============================] - 0s 7ms/step - loss: 0.0415 - acc: 0.9895 - val_loss: 0.1933 - val_acc: 0.9286\n",
      "Epoch 99/100\n",
      "7/7 [==============================] - 0s 7ms/step - loss: 0.0309 - acc: 0.9946 - val_loss: 0.1982 - val_acc: 0.9286\n",
      "Epoch 100/100\n",
      "7/7 [==============================] - 0s 7ms/step - loss: 0.0334 - acc: 0.9905 - val_loss: 0.1955 - val_acc: 0.9286\n"
     ]
    }
   ],
   "source": [
    "#train model \n",
    "history = netwrok.fit(x_train , y_train , epochs=100 , batch_size=32 ,validation_data=(x_val,y_val) ,\n",
    "                      validation_batch_size=32 , workers=1)"
   ]
  },
  {
   "cell_type": "code",
   "execution_count": 16,
   "metadata": {},
   "outputs": [
    {
     "name": "stdout",
     "output_type": "stream",
     "text": [
      "dict_keys(['loss', 'acc', 'val_loss', 'val_acc'])\n"
     ]
    },
    {
     "data": {
      "image/png": "[encoded data removed]",
      "text/plain": [
       "<Figure size 432x288 with 1 Axes>"
      ]
     },
     "metadata": {
      "needs_background": "light"
     },
     "output_type": "display_data"
    }
   ],
   "source": [
    "print(history.history.keys())\n",
    "import matplotlib.pyplot as plt\n",
    "plt.plot(history.history['acc'])\n",
    "plt.plot(history.history['val_acc'])\n",
    "plt.title(\"traing and validation accuracy\")\n",
    "plt.legend(['train', 'validate'], loc='upper left')\n",
    "plt.xlabel(\"no of epoches\")\n",
    "plt.ylabel(\"accuracy\")\n",
    "plt.show()"
   ]
  },
  {
   "cell_type": "code",
   "execution_count": 17,
   "metadata": {},
   "outputs": [
    {
     "name": "stdout",
     "output_type": "stream",
     "text": [
      "dict_keys(['loss', 'acc', 'val_loss', 'val_acc'])\n"
     ]
    },
    {
     "data": {
      "image/png": "[encoded data removed]",
      "text/plain": [
       "<Figure size 432x288 with 1 Axes>"
      ]
     },
     "metadata": {
      "needs_background": "light"
     },
     "output_type": "display_data"
    }
   ],
   "source": [
    "print(history.history.keys())\n",
    "import matplotlib.pyplot as plt\n",
    "plt.plot(history.history['loss'])\n",
    "plt.plot(history.history['val_loss'])\n",
    "plt.title(\"traing and validation loss\")\n",
    "plt.legend(['train', 'validate'], loc='upper left')\n",
    "plt.xlabel(\"no of epoches\")\n",
    "plt.ylabel(\"loss\")\n",
    "plt.show()"
   ]
  },
  {
   "cell_type": "code",
   "execution_count": 18,
   "metadata": {},
   "outputs": [
    {
     "name": "stdout",
     "output_type": "stream",
     "text": [
      "3/3 [==============================] - 0s 2ms/step - loss: 0.1658 - acc: 0.9296\n"
     ]
    },
    {
     "data": {
      "text/plain": [
       "[0.16580785810947418, 0.9295774698257446]"
      ]
     },
     "execution_count": 18,
     "metadata": {},
     "output_type": "execute_result"
    }
   ],
   "source": [
    "netwrok.evaluate(x_test ,y_test, batch_size=32)"
   ]
  },
  {
   "cell_type": "code",
   "execution_count": 19,
   "metadata": {},
   "outputs": [],
   "source": [
    "#With tanh activation Function and rmsprop optimizer \n",
    "from tensorflow.keras import regularizers\n",
    "model = tf.keras.models.Sequential()\n",
    "model.add(tf.keras.layers.Dense(32 , kernel_regularizer=regularizers.l2(0.001), activation='tanh' , input_shape=(34,)))\n",
    "model.add(tf.keras.layers.Dropout(0.5))\n",
    "model.add(tf.keras.layers.Dense(16 , kernel_regularizer=regularizers.l2(0.001), activation='tanh' ))\n",
    "model.add(tf.keras.layers.Dropout(0.5))\n",
    "model.add(tf.keras.layers.Dense(1 , activation='sigmoid'))"
   ]
  },
  {
   "cell_type": "code",
   "execution_count": 20,
   "metadata": {},
   "outputs": [
    {
     "name": "stdout",
     "output_type": "stream",
     "text": [
      "Model: \"sequential_1\"\n",
      "_________________________________________________________________\n",
      "Layer (type)                 Output Shape              Param #   \n",
      "=================================================================\n",
      "dense_3 (Dense)              (None, 32)                1120      \n",
      "_________________________________________________________________\n",
      "dropout (Dropout)            (None, 32)                0         \n",
      "_________________________________________________________________\n",
      "dense_4 (Dense)              (None, 16)                528       \n",
      "_________________________________________________________________\n",
      "dropout_1 (Dropout)          (None, 16)                0         \n",
      "_________________________________________________________________\n",
      "dense_5 (Dense)              (None, 1)                 17        \n",
      "=================================================================\n",
      "Total params: 1,665\n",
      "Trainable params: 1,665\n",
      "Non-trainable params: 0\n",
      "_________________________________________________________________\n"
     ]
    }
   ],
   "source": [
    "model.summary()"
   ]
  },
  {
   "cell_type": "code",
   "execution_count": 21,
   "metadata": {},
   "outputs": [],
   "source": [
    "model.compile(optimizer='rmsprop' , loss='binary_crossentropy' , metrics=['acc'])"
   ]
  },
  {
   "cell_type": "code",
   "execution_count": 22,
   "metadata": {},
   "outputs": [
    {
     "name": "stdout",
     "output_type": "stream",
     "text": [
      "Epoch 1/100\n",
      "7/7 [==============================] - 0s 17ms/step - loss: 0.0384 - acc: 0.9952 - val_loss: 0.1957 - val_acc: 0.9286\n",
      "Epoch 2/100\n",
      "7/7 [==============================] - 0s 7ms/step - loss: 0.0385 - acc: 0.9952 - val_loss: 0.1901 - val_acc: 0.9286\n",
      "Epoch 3/100\n",
      "7/7 [==============================] - 0s 8ms/step - loss: 0.0385 - acc: 0.9952 - val_loss: 0.1949 - val_acc: 0.9286\n",
      "Epoch 4/100\n",
      "7/7 [==============================] - 0s 8ms/step - loss: 0.0367 - acc: 0.9952 - val_loss: 0.1951 - val_acc: 0.9286\n",
      "Epoch 5/100\n",
      "7/7 [==============================] - 0s 7ms/step - loss: 0.0362 - acc: 0.9952 - val_loss: 0.1964 - val_acc: 0.9286\n",
      "Epoch 6/100\n",
      "7/7 [==============================] - 0s 8ms/step - loss: 0.0367 - acc: 0.9952 - val_loss: 0.2032 - val_acc: 0.9143\n",
      "Epoch 7/100\n",
      "7/7 [==============================] - 0s 8ms/step - loss: 0.0354 - acc: 0.9952 - val_loss: 0.1978 - val_acc: 0.9286\n",
      "Epoch 8/100\n",
      "7/7 [==============================] - 0s 8ms/step - loss: 0.0353 - acc: 0.9952 - val_loss: 0.1951 - val_acc: 0.9286\n",
      "Epoch 9/100\n",
      "7/7 [==============================] - 0s 9ms/step - loss: 0.0341 - acc: 0.9952 - val_loss: 0.2002 - val_acc: 0.9143\n",
      "Epoch 10/100\n",
      "7/7 [==============================] - 0s 9ms/step - loss: 0.0340 - acc: 0.9952 - val_loss: 0.2061 - val_acc: 0.9143\n",
      "Epoch 11/100\n",
      "7/7 [==============================] - 0s 9ms/step - loss: 0.0342 - acc: 0.9952 - val_loss: 0.2028 - val_acc: 0.9143\n",
      "Epoch 12/100\n",
      "7/7 [==============================] - 0s 8ms/step - loss: 0.0331 - acc: 0.9952 - val_loss: 0.2053 - val_acc: 0.9143\n",
      "Epoch 13/100\n",
      "7/7 [==============================] - 0s 7ms/step - loss: 0.0328 - acc: 0.9952 - val_loss: 0.2060 - val_acc: 0.9143\n",
      "Epoch 14/100\n",
      "7/7 [==============================] - 0s 8ms/step - loss: 0.0321 - acc: 0.9952 - val_loss: 0.2025 - val_acc: 0.9286\n",
      "Epoch 15/100\n",
      "7/7 [==============================] - 0s 7ms/step - loss: 0.0318 - acc: 0.9952 - val_loss: 0.2036 - val_acc: 0.9143\n",
      "Epoch 16/100\n",
      "7/7 [==============================] - 0s 7ms/step - loss: 0.0308 - acc: 0.9952 - val_loss: 0.2040 - val_acc: 0.9286\n",
      "Epoch 17/100\n",
      "7/7 [==============================] - 0s 7ms/step - loss: 0.0308 - acc: 0.9952 - val_loss: 0.2069 - val_acc: 0.9143\n",
      "Epoch 18/100\n",
      "7/7 [==============================] - 0s 9ms/step - loss: 0.0301 - acc: 0.9952 - val_loss: 0.2093 - val_acc: 0.9000\n",
      "Epoch 19/100\n",
      "7/7 [==============================] - 0s 9ms/step - loss: 0.0304 - acc: 0.9952 - val_loss: 0.2175 - val_acc: 0.9000\n",
      "Epoch 20/100\n",
      "7/7 [==============================] - 0s 9ms/step - loss: 0.0296 - acc: 0.9952 - val_loss: 0.2178 - val_acc: 0.9000\n",
      "Epoch 21/100\n",
      "7/7 [==============================] - 0s 10ms/step - loss: 0.0288 - acc: 0.9952 - val_loss: 0.2123 - val_acc: 0.9000\n",
      "Epoch 22/100\n",
      "7/7 [==============================] - 0s 8ms/step - loss: 0.0282 - acc: 0.9952 - val_loss: 0.2135 - val_acc: 0.9000\n",
      "Epoch 23/100\n",
      "7/7 [==============================] - 0s 8ms/step - loss: 0.0279 - acc: 0.9952 - val_loss: 0.2137 - val_acc: 0.9000\n",
      "Epoch 24/100\n",
      "7/7 [==============================] - 0s 8ms/step - loss: 0.0282 - acc: 0.9952 - val_loss: 0.2225 - val_acc: 0.9000\n",
      "Epoch 25/100\n",
      "7/7 [==============================] - 0s 8ms/step - loss: 0.0267 - acc: 0.9952 - val_loss: 0.2181 - val_acc: 0.9000\n",
      "Epoch 26/100\n",
      "7/7 [==============================] - 0s 7ms/step - loss: 0.0275 - acc: 0.9952 - val_loss: 0.2175 - val_acc: 0.9000\n",
      "Epoch 27/100\n",
      "7/7 [==============================] - 0s 7ms/step - loss: 0.0263 - acc: 0.9952 - val_loss: 0.2269 - val_acc: 0.9000\n",
      "Epoch 28/100\n",
      "7/7 [==============================] - 0s 8ms/step - loss: 0.0257 - acc: 0.9952 - val_loss: 0.2345 - val_acc: 0.9000\n",
      "Epoch 29/100\n",
      "7/7 [==============================] - 0s 8ms/step - loss: 0.0266 - acc: 0.9952 - val_loss: 0.2387 - val_acc: 0.9000\n",
      "Epoch 30/100\n",
      "7/7 [==============================] - 0s 9ms/step - loss: 0.0258 - acc: 0.9952 - val_loss: 0.2258 - val_acc: 0.9000\n",
      "Epoch 31/100\n",
      "7/7 [==============================] - 0s 9ms/step - loss: 0.0258 - acc: 0.9952 - val_loss: 0.2269 - val_acc: 0.9000\n",
      "Epoch 32/100\n",
      "7/7 [==============================] - 0s 11ms/step - loss: 0.0249 - acc: 0.9952 - val_loss: 0.2415 - val_acc: 0.9000\n",
      "Epoch 33/100\n",
      "7/7 [==============================] - 0s 9ms/step - loss: 0.0246 - acc: 0.9952 - val_loss: 0.2439 - val_acc: 0.9000\n",
      "Epoch 34/100\n",
      "7/7 [==============================] - 0s 7ms/step - loss: 0.0241 - acc: 0.9952 - val_loss: 0.2425 - val_acc: 0.9000\n",
      "Epoch 35/100\n",
      "7/7 [==============================] - 0s 7ms/step - loss: 0.0235 - acc: 0.9952 - val_loss: 0.2384 - val_acc: 0.9000\n",
      "Epoch 36/100\n",
      "7/7 [==============================] - 0s 7ms/step - loss: 0.0228 - acc: 0.9952 - val_loss: 0.2319 - val_acc: 0.9000\n",
      "Epoch 37/100\n",
      "7/7 [==============================] - 0s 7ms/step - loss: 0.0235 - acc: 0.9952 - val_loss: 0.2377 - val_acc: 0.9000\n",
      "Epoch 38/100\n",
      "7/7 [==============================] - 0s 7ms/step - loss: 0.0225 - acc: 0.9952 - val_loss: 0.2428 - val_acc: 0.9000\n",
      "Epoch 39/100\n",
      "7/7 [==============================] - 0s 8ms/step - loss: 0.0220 - acc: 0.9952 - val_loss: 0.2472 - val_acc: 0.9000\n",
      "Epoch 40/100\n",
      "7/7 [==============================] - 0s 7ms/step - loss: 0.0219 - acc: 0.9952 - val_loss: 0.2487 - val_acc: 0.9000\n",
      "Epoch 41/100\n",
      "7/7 [==============================] - 0s 7ms/step - loss: 0.0219 - acc: 0.9952 - val_loss: 0.2479 - val_acc: 0.9000\n",
      "Epoch 42/100\n",
      "7/7 [==============================] - 0s 7ms/step - loss: 0.0213 - acc: 0.9952 - val_loss: 0.2533 - val_acc: 0.9000\n",
      "Epoch 43/100\n",
      "7/7 [==============================] - 0s 7ms/step - loss: 0.0215 - acc: 0.9952 - val_loss: 0.2574 - val_acc: 0.9000\n",
      "Epoch 44/100\n",
      "7/7 [==============================] - 0s 7ms/step - loss: 0.0207 - acc: 0.9952 - val_loss: 0.2459 - val_acc: 0.9000\n",
      "Epoch 45/100\n",
      "7/7 [==============================] - 0s 7ms/step - loss: 0.0208 - acc: 0.9952 - val_loss: 0.2503 - val_acc: 0.9000\n",
      "Epoch 46/100\n",
      "7/7 [==============================] - 0s 7ms/step - loss: 0.0204 - acc: 0.9952 - val_loss: 0.2615 - val_acc: 0.9000\n",
      "Epoch 47/100\n",
      "7/7 [==============================] - 0s 7ms/step - loss: 0.0201 - acc: 0.9952 - val_loss: 0.2633 - val_acc: 0.9000\n",
      "Epoch 48/100\n",
      "7/7 [==============================] - 0s 7ms/step - loss: 0.0198 - acc: 0.9952 - val_loss: 0.2610 - val_acc: 0.9000\n",
      "Epoch 49/100\n",
      "7/7 [==============================] - 0s 7ms/step - loss: 0.0188 - acc: 0.9952 - val_loss: 0.2549 - val_acc: 0.9000\n",
      "Epoch 50/100\n",
      "7/7 [==============================] - 0s 7ms/step - loss: 0.0194 - acc: 0.9952 - val_loss: 0.2566 - val_acc: 0.9000\n",
      "Epoch 51/100\n",
      "7/7 [==============================] - 0s 7ms/step - loss: 0.0191 - acc: 0.9952 - val_loss: 0.2670 - val_acc: 0.9000\n",
      "Epoch 52/100\n",
      "7/7 [==============================] - 0s 6ms/step - loss: 0.0187 - acc: 0.9952 - val_loss: 0.2674 - val_acc: 0.9000\n",
      "Epoch 53/100\n",
      "7/7 [==============================] - 0s 7ms/step - loss: 0.0181 - acc: 0.9952 - val_loss: 0.2731 - val_acc: 0.9000\n",
      "Epoch 54/100\n",
      "7/7 [==============================] - 0s 7ms/step - loss: 0.0188 - acc: 0.9952 - val_loss: 0.2805 - val_acc: 0.9000\n",
      "Epoch 55/100\n",
      "7/7 [==============================] - 0s 7ms/step - loss: 0.0176 - acc: 0.9952 - val_loss: 0.2678 - val_acc: 0.9000\n",
      "Epoch 56/100\n",
      "7/7 [==============================] - 0s 7ms/step - loss: 0.0181 - acc: 0.9952 - val_loss: 0.2635 - val_acc: 0.9000\n",
      "Epoch 57/100\n",
      "7/7 [==============================] - 0s 7ms/step - loss: 0.0177 - acc: 0.9952 - val_loss: 0.2740 - val_acc: 0.9000\n",
      "Epoch 58/100\n",
      "7/7 [==============================] - 0s 7ms/step - loss: 0.0185 - acc: 0.9952 - val_loss: 0.2926 - val_acc: 0.9000\n",
      "Epoch 59/100\n",
      "7/7 [==============================] - 0s 6ms/step - loss: 0.0171 - acc: 0.9952 - val_loss: 0.2765 - val_acc: 0.9000\n",
      "Epoch 60/100\n",
      "7/7 [==============================] - 0s 7ms/step - loss: 0.0168 - acc: 0.9952 - val_loss: 0.2780 - val_acc: 0.9000\n",
      "Epoch 61/100\n",
      "7/7 [==============================] - 0s 7ms/step - loss: 0.0168 - acc: 0.9952 - val_loss: 0.2849 - val_acc: 0.9000\n",
      "Epoch 62/100\n",
      "7/7 [==============================] - 0s 7ms/step - loss: 0.0160 - acc: 0.9952 - val_loss: 0.2829 - val_acc: 0.9000\n",
      "Epoch 63/100\n",
      "7/7 [==============================] - 0s 7ms/step - loss: 0.0159 - acc: 0.9952 - val_loss: 0.2855 - val_acc: 0.9000\n",
      "Epoch 64/100\n"
     ]
    },
    {
     "name": "stdout",
     "output_type": "stream",
     "text": [
      "7/7 [==============================] - 0s 7ms/step - loss: 0.0161 - acc: 0.9952 - val_loss: 0.2860 - val_acc: 0.9000\n",
      "Epoch 65/100\n",
      "7/7 [==============================] - 0s 7ms/step - loss: 0.0172 - acc: 0.9952 - val_loss: 0.3066 - val_acc: 0.9000\n",
      "Epoch 66/100\n",
      "7/7 [==============================] - 0s 7ms/step - loss: 0.0164 - acc: 0.9952 - val_loss: 0.2922 - val_acc: 0.9000\n",
      "Epoch 67/100\n",
      "7/7 [==============================] - 0s 7ms/step - loss: 0.0153 - acc: 0.9952 - val_loss: 0.2937 - val_acc: 0.9000\n",
      "Epoch 68/100\n",
      "7/7 [==============================] - 0s 7ms/step - loss: 0.0151 - acc: 0.9952 - val_loss: 0.2971 - val_acc: 0.9000\n",
      "Epoch 69/100\n",
      "7/7 [==============================] - 0s 8ms/step - loss: 0.0148 - acc: 0.9952 - val_loss: 0.2979 - val_acc: 0.9000\n",
      "Epoch 70/100\n",
      "7/7 [==============================] - 0s 7ms/step - loss: 0.0147 - acc: 0.9952 - val_loss: 0.2959 - val_acc: 0.9000\n",
      "Epoch 71/100\n",
      "7/7 [==============================] - 0s 7ms/step - loss: 0.0146 - acc: 0.9952 - val_loss: 0.3019 - val_acc: 0.9000\n",
      "Epoch 72/100\n",
      "7/7 [==============================] - 0s 7ms/step - loss: 0.0144 - acc: 0.9952 - val_loss: 0.2993 - val_acc: 0.9000\n",
      "Epoch 73/100\n",
      "7/7 [==============================] - 0s 8ms/step - loss: 0.0142 - acc: 0.9952 - val_loss: 0.3013 - val_acc: 0.9000\n",
      "Epoch 74/100\n",
      "7/7 [==============================] - 0s 9ms/step - loss: 0.0139 - acc: 0.9952 - val_loss: 0.3031 - val_acc: 0.9000\n",
      "Epoch 75/100\n",
      "7/7 [==============================] - 0s 9ms/step - loss: 0.0138 - acc: 0.9952 - val_loss: 0.3031 - val_acc: 0.9000\n",
      "Epoch 76/100\n",
      "7/7 [==============================] - 0s 9ms/step - loss: 0.0136 - acc: 0.9952 - val_loss: 0.3067 - val_acc: 0.9000\n",
      "Epoch 77/100\n",
      "7/7 [==============================] - 0s 9ms/step - loss: 0.0137 - acc: 0.9952 - val_loss: 0.3127 - val_acc: 0.9000\n",
      "Epoch 78/100\n",
      "7/7 [==============================] - 0s 9ms/step - loss: 0.0134 - acc: 0.9952 - val_loss: 0.3108 - val_acc: 0.9000\n",
      "Epoch 79/100\n",
      "7/7 [==============================] - 0s 8ms/step - loss: 0.0135 - acc: 0.9952 - val_loss: 0.3050 - val_acc: 0.9000\n",
      "Epoch 80/100\n",
      "7/7 [==============================] - 0s 8ms/step - loss: 0.0131 - acc: 0.9952 - val_loss: 0.3152 - val_acc: 0.9000\n",
      "Epoch 81/100\n",
      "7/7 [==============================] - 0s 7ms/step - loss: 0.0128 - acc: 0.9952 - val_loss: 0.3175 - val_acc: 0.9000\n",
      "Epoch 82/100\n",
      "7/7 [==============================] - 0s 7ms/step - loss: 0.0128 - acc: 0.9952 - val_loss: 0.3177 - val_acc: 0.9000\n",
      "Epoch 83/100\n",
      "7/7 [==============================] - 0s 8ms/step - loss: 0.0127 - acc: 0.9952 - val_loss: 0.3215 - val_acc: 0.9000\n",
      "Epoch 84/100\n",
      "7/7 [==============================] - 0s 9ms/step - loss: 0.0121 - acc: 0.9952 - val_loss: 0.3152 - val_acc: 0.9000\n",
      "Epoch 85/100\n",
      "7/7 [==============================] - 0s 9ms/step - loss: 0.0125 - acc: 0.9952 - val_loss: 0.3129 - val_acc: 0.9000\n",
      "Epoch 86/100\n",
      "7/7 [==============================] - 0s 8ms/step - loss: 0.0123 - acc: 0.9952 - val_loss: 0.3245 - val_acc: 0.9000\n",
      "Epoch 87/100\n",
      "7/7 [==============================] - 0s 9ms/step - loss: 0.0124 - acc: 0.9952 - val_loss: 0.3269 - val_acc: 0.8857\n",
      "Epoch 88/100\n",
      "7/7 [==============================] - 0s 7ms/step - loss: 0.0118 - acc: 0.9952 - val_loss: 0.3232 - val_acc: 0.8857\n",
      "Epoch 89/100\n",
      "7/7 [==============================] - 0s 7ms/step - loss: 0.0117 - acc: 0.9952 - val_loss: 0.3251 - val_acc: 0.8857\n",
      "Epoch 90/100\n",
      "7/7 [==============================] - 0s 7ms/step - loss: 0.0118 - acc: 0.9952 - val_loss: 0.3238 - val_acc: 0.8857\n",
      "Epoch 91/100\n",
      "7/7 [==============================] - 0s 7ms/step - loss: 0.0114 - acc: 0.9952 - val_loss: 0.3332 - val_acc: 0.8857\n",
      "Epoch 92/100\n",
      "7/7 [==============================] - 0s 7ms/step - loss: 0.0114 - acc: 0.9952 - val_loss: 0.3343 - val_acc: 0.8857\n",
      "Epoch 93/100\n",
      "7/7 [==============================] - 0s 7ms/step - loss: 0.0112 - acc: 0.9952 - val_loss: 0.3404 - val_acc: 0.8857\n",
      "Epoch 94/100\n",
      "7/7 [==============================] - 0s 7ms/step - loss: 0.0111 - acc: 0.9952 - val_loss: 0.3425 - val_acc: 0.8857\n",
      "Epoch 95/100\n",
      "7/7 [==============================] - 0s 7ms/step - loss: 0.0113 - acc: 0.9952 - val_loss: 0.3319 - val_acc: 0.8857\n",
      "Epoch 96/100\n",
      "7/7 [==============================] - 0s 7ms/step - loss: 0.0115 - acc: 0.9952 - val_loss: 0.3406 - val_acc: 0.8857\n",
      "Epoch 97/100\n",
      "7/7 [==============================] - 0s 7ms/step - loss: 0.0105 - acc: 0.9952 - val_loss: 0.3276 - val_acc: 0.8857\n",
      "Epoch 98/100\n",
      "7/7 [==============================] - 0s 7ms/step - loss: 0.0109 - acc: 0.9952 - val_loss: 0.3382 - val_acc: 0.8857\n",
      "Epoch 99/100\n",
      "7/7 [==============================] - 0s 7ms/step - loss: 0.0101 - acc: 0.9952 - val_loss: 0.3510 - val_acc: 0.8857\n",
      "Epoch 100/100\n",
      "7/7 [==============================] - 0s 7ms/step - loss: 0.0112 - acc: 0.9952 - val_loss: 0.3629 - val_acc: 0.8857\n"
     ]
    }
   ],
   "source": [
    "#train model \n",
    "history = netwrok.fit(x_train , y_train , epochs=100 , batch_size=32 ,validation_data=(x_val,y_val) ,\n",
    "                      validation_batch_size=32)"
   ]
  },
  {
   "cell_type": "code",
   "execution_count": 23,
   "metadata": {},
   "outputs": [
    {
     "name": "stdout",
     "output_type": "stream",
     "text": [
      "3/3 [==============================] - 0s 2ms/step - loss: 0.6853 - acc: 0.7521\n"
     ]
    },
    {
     "data": {
      "text/plain": [
       "[0.681601881980896, 0.7464788556098938]"
      ]
     },
     "execution_count": 23,
     "metadata": {},
     "output_type": "execute_result"
    }
   ],
   "source": [
    "model.evaluate(x_test,y_test ,batch_size=32)"
   ]
  },
  {
   "cell_type": "code",
   "execution_count": 24,
   "metadata": {},
   "outputs": [
    {
     "data": {
      "text/plain": [
       "304    1\n",
       "236    0\n",
       "207    1\n",
       "212    0\n",
       "319    1\n",
       "      ..\n",
       "71     0\n",
       "106    0\n",
       "270    1\n",
       "348    1\n",
       "102    0\n",
       "Name: label, Length: 71, dtype: int64"
      ]
     },
     "execution_count": 24,
     "metadata": {},
     "output_type": "execute_result"
    }
   ],
   "source": [
    "y_test"
   ]
  },
  {
   "cell_type": "code",
   "execution_count": 25,
   "metadata": {},
   "outputs": [
    {
     "name": "stdout",
     "output_type": "stream",
     "text": [
      "dict_keys(['loss', 'acc', 'val_loss', 'val_acc'])\n"
     ]
    },
    {
     "data": {
      "image/png": "[encoded data removed]",
      "text/plain": [
       "<Figure size 432x288 with 1 Axes>"
      ]
     },
     "metadata": {
      "needs_background": "light"
     },
     "output_type": "display_data"
    }
   ],
   "source": [
    "print(history.history.keys())\n",
    "import matplotlib.pyplot as plt\n",
    "plt.plot(history.history['acc'])\n",
    "plt.plot(history.history['val_acc'])\n",
    "plt.title(\"traing and validation accuracy\")\n",
    "plt.legend(['train', 'validate'], loc='upper left')\n",
    "plt.xlabel(\"no of epoches\")\n",
    "plt.ylabel(\"accuracy\")\n",
    "plt.show()"
   ]
  },
  {
   "cell_type": "code",
   "execution_count": 28,
   "metadata": {},
   "outputs": [
    {
     "name": "stdout",
     "output_type": "stream",
     "text": [
      "dict_keys(['loss', 'acc', 'val_loss', 'val_acc'])\n"
     ]
    },
    {
     "data": {
      "image/png": "[encoded data removed]",
      "text/plain": [
       "<Figure size 432x288 with 1 Axes>"
      ]
     },
     "metadata": {
      "needs_background": "light"
     },
     "output_type": "display_data"
    }
   ],
   "source": [
    "print(history.history.keys())\n",
    "import matplotlib.pyplot as plt\n",
    "plt.plot(history.history['loss'])\n",
    "plt.plot(history.history['val_loss'])\n",
    "plt.title(\"traing and validation loss\")\n",
    "plt.legend(['train', 'validate'], loc='upper left')\n",
    "plt.xlabel(\"no of epoches\")\n",
    "plt.ylabel(\"loss\")\n",
    "plt.show()"
   ]
  },
  {
   "cell_type": "code",
   "execution_count": 29,
   "metadata": {},
   "outputs": [],
   "source": [
    "#Result of after reduce the layers \n",
    "netwrok = tf.keras.models.Sequential()\n",
    "netwrok.add(tf.keras.layers.Dense(4 , activation='tanh' , input_shape=(34,)))\n",
    "model.add(tf.keras.layers.Dropout(0.5))\n",
    "netwrok.add(tf.keras.layers.Dense(16 , activation='tanh' ))\n",
    "model.add(tf.keras.layers.Dropout(0.5))\n",
    "netwrok.add(tf.keras.layers.Dense(1 , activation='sigmoid'))\n",
    "netwrok.compile(optimizer='rmsprop', loss=tf.keras.losses.binary_crossentropy,\n",
    "                metrics=['acc'])"
   ]
  },
  {
   "cell_type": "code",
   "execution_count": 30,
   "metadata": {},
   "outputs": [
    {
     "name": "stdout",
     "output_type": "stream",
     "text": [
      "Model: \"sequential_2\"\n",
      "_________________________________________________________________\n",
      "Layer (type)                 Output Shape              Param #   \n",
      "=================================================================\n",
      "dense_6 (Dense)              (None, 4)                 140       \n",
      "_________________________________________________________________\n",
      "dense_7 (Dense)              (None, 16)                80        \n",
      "_________________________________________________________________\n",
      "dense_8 (Dense)              (None, 1)                 17        \n",
      "=================================================================\n",
      "Total params: 237\n",
      "Trainable params: 237\n",
      "Non-trainable params: 0\n",
      "_________________________________________________________________\n"
     ]
    }
   ],
   "source": [
    "netwrok.summary()"
   ]
  },
  {
   "cell_type": "code",
   "execution_count": 31,
   "metadata": {},
   "outputs": [
    {
     "name": "stdout",
     "output_type": "stream",
     "text": [
      "Epoch 1/100\n",
      "7/7 [==============================] - 1s 32ms/step - loss: 0.7003 - acc: 0.4880 - val_loss: 0.7060 - val_acc: 0.4571\n",
      "Epoch 2/100\n",
      "7/7 [==============================] - 0s 7ms/step - loss: 0.6608 - acc: 0.5597 - val_loss: 0.6857 - val_acc: 0.5714\n",
      "Epoch 3/100\n",
      "7/7 [==============================] - 0s 7ms/step - loss: 0.6250 - acc: 0.6985 - val_loss: 0.6692 - val_acc: 0.6286\n",
      "Epoch 4/100\n",
      "7/7 [==============================] - 0s 7ms/step - loss: 0.6174 - acc: 0.7709 - val_loss: 0.6554 - val_acc: 0.7000\n",
      "Epoch 5/100\n",
      "7/7 [==============================] - 0s 7ms/step - loss: 0.5912 - acc: 0.7790 - val_loss: 0.6456 - val_acc: 0.7000\n",
      "Epoch 6/100\n",
      "7/7 [==============================] - 0s 8ms/step - loss: 0.5775 - acc: 0.7515 - val_loss: 0.6384 - val_acc: 0.7000\n",
      "Epoch 7/100\n",
      "7/7 [==============================] - 0s 8ms/step - loss: 0.5641 - acc: 0.7525 - val_loss: 0.6320 - val_acc: 0.6857\n",
      "Epoch 8/100\n",
      "7/7 [==============================] - 0s 9ms/step - loss: 0.5604 - acc: 0.7526 - val_loss: 0.6281 - val_acc: 0.6857\n",
      "Epoch 9/100\n",
      "7/7 [==============================] - 0s 8ms/step - loss: 0.5444 - acc: 0.7509 - val_loss: 0.6239 - val_acc: 0.6857\n",
      "Epoch 10/100\n",
      "7/7 [==============================] - 0s 7ms/step - loss: 0.5490 - acc: 0.7323 - val_loss: 0.6196 - val_acc: 0.6714\n",
      "Epoch 11/100\n",
      "7/7 [==============================] - 0s 7ms/step - loss: 0.5288 - acc: 0.7757 - val_loss: 0.6149 - val_acc: 0.7000\n",
      "Epoch 12/100\n",
      "7/7 [==============================] - 0s 7ms/step - loss: 0.5166 - acc: 0.7712 - val_loss: 0.6095 - val_acc: 0.7000\n",
      "Epoch 13/100\n",
      "7/7 [==============================] - 0s 7ms/step - loss: 0.5130 - acc: 0.7645 - val_loss: 0.6053 - val_acc: 0.7000\n",
      "Epoch 14/100\n",
      "7/7 [==============================] - 0s 8ms/step - loss: 0.5019 - acc: 0.7639 - val_loss: 0.6007 - val_acc: 0.7000\n",
      "Epoch 15/100\n",
      "7/7 [==============================] - 0s 8ms/step - loss: 0.5405 - acc: 0.7670 - val_loss: 0.5970 - val_acc: 0.7000\n",
      "Epoch 16/100\n",
      "7/7 [==============================] - 0s 8ms/step - loss: 0.4794 - acc: 0.8195 - val_loss: 0.5920 - val_acc: 0.7143\n",
      "Epoch 17/100\n",
      "7/7 [==============================] - 0s 8ms/step - loss: 0.4850 - acc: 0.8073 - val_loss: 0.5867 - val_acc: 0.7143\n",
      "Epoch 18/100\n",
      "7/7 [==============================] - 0s 7ms/step - loss: 0.4611 - acc: 0.8230 - val_loss: 0.5819 - val_acc: 0.7286\n",
      "Epoch 19/100\n",
      "7/7 [==============================] - 0s 7ms/step - loss: 0.4682 - acc: 0.8108 - val_loss: 0.5764 - val_acc: 0.7286\n",
      "Epoch 20/100\n",
      "7/7 [==============================] - 0s 7ms/step - loss: 0.4559 - acc: 0.8253 - val_loss: 0.5719 - val_acc: 0.7286\n",
      "Epoch 21/100\n",
      "7/7 [==============================] - 0s 7ms/step - loss: 0.4417 - acc: 0.8465 - val_loss: 0.5664 - val_acc: 0.7286\n",
      "Epoch 22/100\n",
      "7/7 [==============================] - 0s 8ms/step - loss: 0.4592 - acc: 0.8260 - val_loss: 0.5612 - val_acc: 0.7429\n",
      "Epoch 23/100\n",
      "7/7 [==============================] - 0s 8ms/step - loss: 0.4420 - acc: 0.8499 - val_loss: 0.5571 - val_acc: 0.7429\n",
      "Epoch 24/100\n",
      "7/7 [==============================] - 0s 7ms/step - loss: 0.4064 - acc: 0.8739 - val_loss: 0.5522 - val_acc: 0.7571\n",
      "Epoch 25/100\n",
      "7/7 [==============================] - 0s 7ms/step - loss: 0.4287 - acc: 0.8383 - val_loss: 0.5487 - val_acc: 0.7714\n",
      "Epoch 26/100\n",
      "7/7 [==============================] - 0s 7ms/step - loss: 0.4233 - acc: 0.8648 - val_loss: 0.5442 - val_acc: 0.7857\n",
      "Epoch 27/100\n",
      "7/7 [==============================] - 0s 7ms/step - loss: 0.4449 - acc: 0.8356 - val_loss: 0.5395 - val_acc: 0.8000\n",
      "Epoch 28/100\n",
      "7/7 [==============================] - 0s 7ms/step - loss: 0.3864 - acc: 0.8700 - val_loss: 0.5347 - val_acc: 0.8000\n",
      "Epoch 29/100\n",
      "7/7 [==============================] - 0s 7ms/step - loss: 0.4076 - acc: 0.8622 - val_loss: 0.5318 - val_acc: 0.8000\n",
      "Epoch 30/100\n",
      "7/7 [==============================] - 0s 7ms/step - loss: 0.4058 - acc: 0.8541 - val_loss: 0.5273 - val_acc: 0.8143\n",
      "Epoch 31/100\n",
      "7/7 [==============================] - 0s 7ms/step - loss: 0.3979 - acc: 0.8649 - val_loss: 0.5213 - val_acc: 0.8143\n",
      "Epoch 32/100\n",
      "7/7 [==============================] - 0s 9ms/step - loss: 0.4122 - acc: 0.8533 - val_loss: 0.5173 - val_acc: 0.8143\n",
      "Epoch 33/100\n",
      "7/7 [==============================] - 0s 8ms/step - loss: 0.3607 - acc: 0.8916 - val_loss: 0.5138 - val_acc: 0.8143\n",
      "Epoch 34/100\n",
      "7/7 [==============================] - 0s 8ms/step - loss: 0.4076 - acc: 0.8559 - val_loss: 0.5116 - val_acc: 0.8143\n",
      "Epoch 35/100\n",
      "7/7 [==============================] - 0s 8ms/step - loss: 0.3612 - acc: 0.8802 - val_loss: 0.5070 - val_acc: 0.8143\n",
      "Epoch 36/100\n",
      "7/7 [==============================] - 0s 9ms/step - loss: 0.3638 - acc: 0.8709 - val_loss: 0.5037 - val_acc: 0.8143\n",
      "Epoch 37/100\n",
      "7/7 [==============================] - 0s 8ms/step - loss: 0.3789 - acc: 0.8636 - val_loss: 0.5016 - val_acc: 0.8143\n",
      "Epoch 38/100\n",
      "7/7 [==============================] - 0s 7ms/step - loss: 0.3468 - acc: 0.8770 - val_loss: 0.4987 - val_acc: 0.8143\n",
      "Epoch 39/100\n",
      "7/7 [==============================] - 0s 7ms/step - loss: 0.3349 - acc: 0.8911 - val_loss: 0.4947 - val_acc: 0.8143\n",
      "Epoch 40/100\n",
      "7/7 [==============================] - 0s 7ms/step - loss: 0.3684 - acc: 0.8626 - val_loss: 0.4923 - val_acc: 0.8143\n",
      "Epoch 41/100\n",
      "7/7 [==============================] - 0s 6ms/step - loss: 0.3372 - acc: 0.8806 - val_loss: 0.4895 - val_acc: 0.8143\n",
      "Epoch 42/100\n",
      "7/7 [==============================] - 0s 7ms/step - loss: 0.3538 - acc: 0.8723 - val_loss: 0.4858 - val_acc: 0.8143\n",
      "Epoch 43/100\n",
      "7/7 [==============================] - 0s 7ms/step - loss: 0.3338 - acc: 0.8834 - val_loss: 0.4821 - val_acc: 0.8143\n",
      "Epoch 44/100\n",
      "7/7 [==============================] - 0s 7ms/step - loss: 0.3181 - acc: 0.9001 - val_loss: 0.4785 - val_acc: 0.8143\n",
      "Epoch 45/100\n",
      "7/7 [==============================] - 0s 7ms/step - loss: 0.3440 - acc: 0.8597 - val_loss: 0.4768 - val_acc: 0.8143\n",
      "Epoch 46/100\n",
      "7/7 [==============================] - 0s 7ms/step - loss: 0.3357 - acc: 0.8689 - val_loss: 0.4742 - val_acc: 0.8286\n",
      "Epoch 47/100\n",
      "7/7 [==============================] - 0s 7ms/step - loss: 0.3222 - acc: 0.8795 - val_loss: 0.4718 - val_acc: 0.8429\n",
      "Epoch 48/100\n",
      "7/7 [==============================] - 0s 7ms/step - loss: 0.3336 - acc: 0.8711 - val_loss: 0.4686 - val_acc: 0.8429\n",
      "Epoch 49/100\n",
      "7/7 [==============================] - 0s 7ms/step - loss: 0.3491 - acc: 0.8628 - val_loss: 0.4662 - val_acc: 0.8429\n",
      "Epoch 50/100\n",
      "7/7 [==============================] - 0s 7ms/step - loss: 0.3050 - acc: 0.8971 - val_loss: 0.4635 - val_acc: 0.8429\n",
      "Epoch 51/100\n",
      "7/7 [==============================] - 0s 7ms/step - loss: 0.3322 - acc: 0.8822 - val_loss: 0.4606 - val_acc: 0.8429\n",
      "Epoch 52/100\n",
      "7/7 [==============================] - 0s 7ms/step - loss: 0.3001 - acc: 0.8819 - val_loss: 0.4586 - val_acc: 0.8429\n",
      "Epoch 53/100\n",
      "7/7 [==============================] - 0s 7ms/step - loss: 0.2965 - acc: 0.8915 - val_loss: 0.4553 - val_acc: 0.8429\n",
      "Epoch 54/100\n",
      "7/7 [==============================] - 0s 8ms/step - loss: 0.2741 - acc: 0.8952 - val_loss: 0.4505 - val_acc: 0.8429\n",
      "Epoch 55/100\n",
      "7/7 [==============================] - 0s 7ms/step - loss: 0.2530 - acc: 0.9153 - val_loss: 0.4493 - val_acc: 0.8429\n",
      "Epoch 56/100\n",
      "7/7 [==============================] - 0s 7ms/step - loss: 0.3671 - acc: 0.8426 - val_loss: 0.4484 - val_acc: 0.8429\n",
      "Epoch 57/100\n",
      "7/7 [==============================] - 0s 7ms/step - loss: 0.2784 - acc: 0.8966 - val_loss: 0.4452 - val_acc: 0.8429\n",
      "Epoch 58/100\n",
      "7/7 [==============================] - 0s 7ms/step - loss: 0.3184 - acc: 0.8902 - val_loss: 0.4439 - val_acc: 0.8429\n",
      "Epoch 59/100\n",
      "7/7 [==============================] - 0s 7ms/step - loss: 0.2884 - acc: 0.8862 - val_loss: 0.4427 - val_acc: 0.8429\n",
      "Epoch 60/100\n",
      "7/7 [==============================] - 0s 7ms/step - loss: 0.3144 - acc: 0.8728 - val_loss: 0.4424 - val_acc: 0.8429\n",
      "Epoch 61/100\n",
      "7/7 [==============================] - 0s 8ms/step - loss: 0.2520 - acc: 0.9023 - val_loss: 0.4400 - val_acc: 0.8429\n",
      "Epoch 62/100\n",
      "7/7 [==============================] - 0s 7ms/step - loss: 0.2715 - acc: 0.8985 - val_loss: 0.4349 - val_acc: 0.8571\n",
      "Epoch 63/100\n",
      "7/7 [==============================] - 0s 7ms/step - loss: 0.2732 - acc: 0.8822 - val_loss: 0.4344 - val_acc: 0.8571\n",
      "Epoch 64/100\n"
     ]
    },
    {
     "name": "stdout",
     "output_type": "stream",
     "text": [
      "7/7 [==============================] - 0s 7ms/step - loss: 0.2835 - acc: 0.8749 - val_loss: 0.4334 - val_acc: 0.8571\n",
      "Epoch 65/100\n",
      "7/7 [==============================] - 0s 7ms/step - loss: 0.2899 - acc: 0.8829 - val_loss: 0.4326 - val_acc: 0.8571\n",
      "Epoch 66/100\n",
      "7/7 [==============================] - 0s 7ms/step - loss: 0.2569 - acc: 0.9087 - val_loss: 0.4282 - val_acc: 0.8571\n",
      "Epoch 67/100\n",
      "7/7 [==============================] - 0s 8ms/step - loss: 0.2441 - acc: 0.9125 - val_loss: 0.4267 - val_acc: 0.8571\n",
      "Epoch 68/100\n",
      "7/7 [==============================] - 0s 8ms/step - loss: 0.2486 - acc: 0.9033 - val_loss: 0.4269 - val_acc: 0.8571\n",
      "Epoch 69/100\n",
      "7/7 [==============================] - 0s 7ms/step - loss: 0.2288 - acc: 0.9235 - val_loss: 0.4238 - val_acc: 0.8571\n",
      "Epoch 70/100\n",
      "7/7 [==============================] - 0s 7ms/step - loss: 0.2346 - acc: 0.9197 - val_loss: 0.4246 - val_acc: 0.8571\n",
      "Epoch 71/100\n",
      "7/7 [==============================] - 0s 7ms/step - loss: 0.2451 - acc: 0.9145 - val_loss: 0.4215 - val_acc: 0.8571\n",
      "Epoch 72/100\n",
      "7/7 [==============================] - 0s 7ms/step - loss: 0.2338 - acc: 0.9241 - val_loss: 0.4218 - val_acc: 0.8571\n",
      "Epoch 73/100\n",
      "7/7 [==============================] - 0s 7ms/step - loss: 0.2093 - acc: 0.9226 - val_loss: 0.4188 - val_acc: 0.8571\n",
      "Epoch 74/100\n",
      "7/7 [==============================] - 0s 7ms/step - loss: 0.2287 - acc: 0.9157 - val_loss: 0.4166 - val_acc: 0.8571\n",
      "Epoch 75/100\n",
      "7/7 [==============================] - 0s 7ms/step - loss: 0.2186 - acc: 0.9242 - val_loss: 0.4135 - val_acc: 0.8429\n",
      "Epoch 76/100\n",
      "7/7 [==============================] - 0s 8ms/step - loss: 0.2256 - acc: 0.9177 - val_loss: 0.4127 - val_acc: 0.8429\n",
      "Epoch 77/100\n",
      "7/7 [==============================] - 0s 7ms/step - loss: 0.2254 - acc: 0.9195 - val_loss: 0.4136 - val_acc: 0.8571\n",
      "Epoch 78/100\n",
      "7/7 [==============================] - 0s 9ms/step - loss: 0.2473 - acc: 0.9110 - val_loss: 0.4130 - val_acc: 0.8571\n",
      "Epoch 79/100\n",
      "7/7 [==============================] - 0s 8ms/step - loss: 0.2269 - acc: 0.9173 - val_loss: 0.4129 - val_acc: 0.8571\n",
      "Epoch 80/100\n",
      "7/7 [==============================] - 0s 8ms/step - loss: 0.2375 - acc: 0.9182 - val_loss: 0.4142 - val_acc: 0.8571\n",
      "Epoch 81/100\n",
      "7/7 [==============================] - 0s 7ms/step - loss: 0.1928 - acc: 0.9369 - val_loss: 0.4095 - val_acc: 0.8571\n",
      "Epoch 82/100\n",
      "7/7 [==============================] - 0s 6ms/step - loss: 0.2411 - acc: 0.9152 - val_loss: 0.4095 - val_acc: 0.8571\n",
      "Epoch 83/100\n",
      "7/7 [==============================] - 0s 7ms/step - loss: 0.2338 - acc: 0.9218 - val_loss: 0.4044 - val_acc: 0.8714\n",
      "Epoch 84/100\n",
      "7/7 [==============================] - 0s 7ms/step - loss: 0.2512 - acc: 0.9073 - val_loss: 0.4042 - val_acc: 0.8714\n",
      "Epoch 85/100\n",
      "7/7 [==============================] - 0s 6ms/step - loss: 0.2408 - acc: 0.9180 - val_loss: 0.4017 - val_acc: 0.8714\n",
      "Epoch 86/100\n",
      "7/7 [==============================] - 0s 7ms/step - loss: 0.1715 - acc: 0.9423 - val_loss: 0.3972 - val_acc: 0.8714\n",
      "Epoch 87/100\n",
      "7/7 [==============================] - 0s 7ms/step - loss: 0.1960 - acc: 0.9207 - val_loss: 0.3992 - val_acc: 0.8714\n",
      "Epoch 88/100\n",
      "7/7 [==============================] - 0s 7ms/step - loss: 0.2357 - acc: 0.9100 - val_loss: 0.3977 - val_acc: 0.8714\n",
      "Epoch 89/100\n",
      "7/7 [==============================] - 0s 7ms/step - loss: 0.1873 - acc: 0.9249 - val_loss: 0.3963 - val_acc: 0.8714\n",
      "Epoch 90/100\n",
      "7/7 [==============================] - 0s 8ms/step - loss: 0.1822 - acc: 0.9337 - val_loss: 0.3926 - val_acc: 0.8714\n",
      "Epoch 91/100\n",
      "7/7 [==============================] - 0s 7ms/step - loss: 0.1685 - acc: 0.9338 - val_loss: 0.3894 - val_acc: 0.8857\n",
      "Epoch 92/100\n",
      "7/7 [==============================] - 0s 7ms/step - loss: 0.1648 - acc: 0.9398 - val_loss: 0.3883 - val_acc: 0.8857\n",
      "Epoch 93/100\n",
      "7/7 [==============================] - 0s 7ms/step - loss: 0.2032 - acc: 0.9272 - val_loss: 0.3889 - val_acc: 0.8714\n",
      "Epoch 94/100\n",
      "7/7 [==============================] - 0s 8ms/step - loss: 0.1801 - acc: 0.9421 - val_loss: 0.3883 - val_acc: 0.8714\n",
      "Epoch 95/100\n",
      "7/7 [==============================] - 0s 7ms/step - loss: 0.1926 - acc: 0.9250 - val_loss: 0.3852 - val_acc: 0.8714\n",
      "Epoch 96/100\n",
      "7/7 [==============================] - 0s 7ms/step - loss: 0.1879 - acc: 0.9329 - val_loss: 0.3861 - val_acc: 0.8714\n",
      "Epoch 97/100\n",
      "7/7 [==============================] - 0s 7ms/step - loss: 0.1767 - acc: 0.9328 - val_loss: 0.3826 - val_acc: 0.8714\n",
      "Epoch 98/100\n",
      "7/7 [==============================] - 0s 7ms/step - loss: 0.1724 - acc: 0.9358 - val_loss: 0.3812 - val_acc: 0.8714\n",
      "Epoch 99/100\n",
      "7/7 [==============================] - 0s 7ms/step - loss: 0.2069 - acc: 0.9159 - val_loss: 0.3805 - val_acc: 0.8714\n",
      "Epoch 100/100\n",
      "7/7 [==============================] - 0s 7ms/step - loss: 0.1956 - acc: 0.9369 - val_loss: 0.3827 - val_acc: 0.8714\n"
     ]
    }
   ],
   "source": [
    "#train model \n",
    "history = netwrok.fit(x_train , y_train , epochs=100 , batch_size=32 ,validation_data=(x_val,y_val) ,\n",
    "                      validation_batch_size=32 , workers=1)"
   ]
  },
  {
   "cell_type": "code",
   "execution_count": 32,
   "metadata": {},
   "outputs": [
    {
     "name": "stdout",
     "output_type": "stream",
     "text": [
      "3/3 [==============================] - 0s 2ms/step - loss: 0.2154 - acc: 0.9155\n"
     ]
    },
    {
     "data": {
      "text/plain": [
       "[0.2154122143983841, 0.9154929518699646]"
      ]
     },
     "execution_count": 32,
     "metadata": {},
     "output_type": "execute_result"
    }
   ],
   "source": [
    "netwrok.evaluate(x_test,y_test , batch_size=32)"
   ]
  },
  {
   "cell_type": "code",
   "execution_count": 33,
   "metadata": {},
   "outputs": [
    {
     "name": "stdout",
     "output_type": "stream",
     "text": [
      "dict_keys(['loss', 'acc', 'val_loss', 'val_acc'])\n"
     ]
    },
    {
     "data": {
      "image/png": "[encoded data removed]",
      "text/plain": [
       "<Figure size 432x288 with 1 Axes>"
      ]
     },
     "metadata": {
      "needs_background": "light"
     },
     "output_type": "display_data"
    }
   ],
   "source": [
    "print(history.history.keys())\n",
    "import matplotlib.pyplot as plt\n",
    "plt.plot(history.history['acc'])\n",
    "plt.plot(history.history['val_acc'])\n",
    "plt.title(\"traing and validation accuracy\")\n",
    "plt.legend(['train', 'validate'], loc='upper left')\n",
    "plt.xlabel(\"no of epoches\")\n",
    "plt.ylabel(\"accuracy\")\n",
    "plt.show()"
   ]
  },
  {
   "cell_type": "code",
   "execution_count": 35,
   "metadata": {},
   "outputs": [
    {
     "name": "stdout",
     "output_type": "stream",
     "text": [
      "dict_keys(['loss', 'acc', 'val_loss', 'val_acc'])\n"
     ]
    },
    {
     "data": {
      "image/png": "[encoded data removed]",
      "text/plain": [
       "<Figure size 432x288 with 1 Axes>"
      ]
     },
     "metadata": {
      "needs_background": "light"
     },
     "output_type": "display_data"
    }
   ],
   "source": [
    "print(history.history.keys())\n",
    "import matplotlib.pyplot as plt\n",
    "plt.plot(history.history['loss'])\n",
    "plt.plot(history.history['val_loss'])\n",
    "plt.title(\"traing and validation loss\")\n",
    "plt.legend(['train', 'validate'], loc='upper left')\n",
    "plt.xlabel(\"no of epoches\")\n",
    "plt.ylabel(\"loss\")\n",
    "plt.show()"
   ]
  },
  {
   "cell_type": "code",
   "execution_count": null,
   "metadata": {},
   "outputs": [],
   "source": []
  }
 ],
 "metadata": {
  "kernelspec": {
   "display_name": "Python 3",
   "language": "python",
   "name": "python3"
  },
  "language_info": {
   "codemirror_mode": {
    "name": "ipython",
    "version": 3
   },
   "file_extension": ".py",
   "mimetype": "text/x-python",
   "name": "python",
   "nbconvert_exporter": "python",
   "pygments_lexer": "ipython3",
   "version": "3.8.5"
  }
 },
 "nbformat": 4,
 "nbformat_minor": 4
}
